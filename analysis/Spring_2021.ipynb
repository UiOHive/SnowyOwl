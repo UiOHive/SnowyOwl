{
 "cells": [
  {
   "cell_type": "markdown",
   "metadata": {},
   "source": [
    "# Spring 2021 Livox lidar data processing\n",
    "\n",
    "Script to process raw .bin files from the livo lidar collected from March 2021 to June 2021\n",
    "S. Filhol 2021\n",
    "\n",
    "-------\n",
    "Part 0: Convert all point cloud to daily netcdf\n",
    "For each day:\n",
    "1. convert to LAS\n",
    "2. rotate LAS\n",
    "3. extract Geotiff\n",
    "4. compile daily geotiff to netcdf\n",
    "\n",
    "-------\n",
    "Part 1:  Find out when to convert bin file into DEMs\n",
    "\n",
    "1. get wind, temperature, flux, precip and snow depth from flux station\n",
    "2. identify events: precip, wind, transport.\n",
    "3. create list of timestamp to convert bin to netcdf. High temporal resolution during events, low temporal resolution in low activity\n",
    "\n",
    "-------\n",
    "Part 2\n",
    "\n",
    "1. write code to load files metadata to sort which file to process and post process\n",
    "2. \n"
   ]
  },
  {
   "cell_type": "code",
   "execution_count": 1,
   "metadata": {},
   "outputs": [],
   "source": [
    "#from wsn_client import query\n",
    "import xarray as xr\n",
    "import glob\n",
    "import pandas as pd\n",
    "import openpylivox as opl\n",
    "import pdal, json, os\n",
    "import getpass\n",
    "import configparser, logging, sys\n",
    "sys.path.append('/home/' + getpass.getuser() + '/github/SnowyOwl/')\n",
    "from appV2 import process_pcl as pp"
   ]
  },
  {
   "cell_type": "code",
   "execution_count": 2,
   "metadata": {},
   "outputs": [],
   "source": [
    "# 1. Convert all point clouds to netcdf4 via geotiff\n",
    "\n",
    "dir_bin = '/media/' + getpass.getuser() + '/My Book/SO_spring_2021_processing/bin/'\n",
    "dir_netcdf = '/media/' + getpass.getuser() + '/My Book/SO_spring_2021_processing/netcdf/'\n",
    "dir_daily = '/media/' + getpass.getuser() + '/My Book/SO_spring_2021_processing/daily/'\n",
    "\n",
    "flist = glob.glob(dir_bin + '*.bin')\n",
    "flist.sort()"
   ]
  },
  {
   "cell_type": "code",
   "execution_count": 3,
   "metadata": {},
   "outputs": [],
   "source": [
    "meta = pd.DataFrame({'fname_archive':flist})"
   ]
  },
  {
   "cell_type": "code",
   "execution_count": 4,
   "metadata": {},
   "outputs": [],
   "source": [
    "# create dataframe of file metadata\n",
    "meta = pd.DataFrame({'fname_archive':flist})\n",
    "#extract timestamp from filename\n",
    "meta['tst'] = pd.to_datetime(meta.fname_archive.apply(lambda x: x.split('/')[-1][:-4]), format=\"%Y.%m.%dT%H-%M-%S\")\n",
    "meta['daily']=(meta.tst - pd.to_datetime('2021-03-11 00:00:00')).dt.days"
   ]
  },
  {
   "cell_type": "code",
   "execution_count": 5,
   "metadata": {},
   "outputs": [
    {
     "data": {
      "text/plain": [
       "Timedelta('0 days 00:03:00')"
      ]
     },
     "execution_count": 5,
     "metadata": {},
     "output_type": "execute_result"
    }
   ],
   "source": [
    "meta.tst.diff().median()"
   ]
  },
  {
   "cell_type": "code",
   "execution_count": null,
   "metadata": {},
   "outputs": [],
   "source": []
  },
  {
   "cell_type": "code",
   "execution_count": 6,
   "metadata": {},
   "outputs": [
    {
     "name": "stdout",
     "output_type": "stream",
     "text": [
      "......\n",
      "Processing Day  21\n",
      "-- File moved\n",
      "\n",
      "CONVERTING OPL BINARY DATA, PLEASE WAIT...\n"
     ]
    },
    {
     "name": "stderr",
     "output_type": "stream",
     "text": [
      "   : 100%|██████████| 431862/431862 [00:01<00:00, 218181.24 pts/s]\n"
     ]
    },
    {
     "name": "stdout",
     "output_type": "stream",
     "text": [
      "   - Point data was converted successfully to LAS, see file: /media/simonfi/My Book/SO_spring_2021_processing/daily/2021.04.01T03-00-00.bin.las\n",
      "\n",
      "/media/simonfi/My Book/SO_spring_2021_processing/daily/2021.04.01T03-00-00.bin  removed and las renamed.\n",
      "\n",
      "CONVERTING OPL BINARY DATA, PLEASE WAIT...\n"
     ]
    },
    {
     "name": "stderr",
     "output_type": "stream",
     "text": [
      "   : 100%|██████████| 452655/452655 [00:02<00:00, 221648.90 pts/s]\n"
     ]
    },
    {
     "name": "stdout",
     "output_type": "stream",
     "text": [
      "   - Point data was converted successfully to LAS, see file: /media/simonfi/My Book/SO_spring_2021_processing/daily/2021.04.01T06-00-00.bin.las\n",
      "\n",
      "/media/simonfi/My Book/SO_spring_2021_processing/daily/2021.04.01T06-00-00.bin  removed and las renamed.\n",
      "\n",
      "CONVERTING OPL BINARY DATA, PLEASE WAIT...\n"
     ]
    },
    {
     "name": "stderr",
     "output_type": "stream",
     "text": [
      "   : 100%|██████████| 359003/359003 [00:01<00:00, 219516.44 pts/s]\n"
     ]
    },
    {
     "name": "stdout",
     "output_type": "stream",
     "text": [
      "   - Point data was converted successfully to LAS, see file: /media/simonfi/My Book/SO_spring_2021_processing/daily/2021.04.01T09-00-00.bin.las\n",
      "\n",
      "/media/simonfi/My Book/SO_spring_2021_processing/daily/2021.04.01T09-00-00.bin  removed and las renamed.\n",
      "-- Bin converted to las\n",
      "-- Rotated pcl\n",
      "-- Tif extracted\n",
      "['/media/simonfi/My Book/SO_spring_2021_processing/daily/2021.04.01T03-00-00_rot.tif', '/media/simonfi/My Book/SO_spring_2021_processing/daily/2021.04.01T06-00-00_rot.tif', '/media/simonfi/My Book/SO_spring_2021_processing/daily/2021.04.01T09-00-00_rot.tif']\n",
      "File saved:  /media/simonfi/My Book/SO_spring_2021_processing/netcdf/20210401.nc\n",
      "-- daily Netcdf compiled\n",
      "......\n",
      "Processing Day  22\n",
      "-- File moved\n",
      "\n",
      "CONVERTING OPL BINARY DATA, PLEASE WAIT...\n"
     ]
    },
    {
     "name": "stderr",
     "output_type": "stream",
     "text": [
      "   : 100%|██████████| 466918/466918 [00:02<00:00, 224277.57 pts/s]\n"
     ]
    },
    {
     "name": "stdout",
     "output_type": "stream",
     "text": [
      "   - Point data was converted successfully to LAS, see file: /media/simonfi/My Book/SO_spring_2021_processing/daily/2021.04.02T00-00-00.bin.las\n",
      "\n",
      "/media/simonfi/My Book/SO_spring_2021_processing/daily/2021.04.02T00-00-00.bin  removed and las renamed.\n",
      "\n",
      "CONVERTING OPL BINARY DATA, PLEASE WAIT...\n"
     ]
    },
    {
     "name": "stderr",
     "output_type": "stream",
     "text": [
      "   : 100%|██████████| 430651/430651 [00:02<00:00, 215221.59 pts/s]\n"
     ]
    },
    {
     "name": "stdout",
     "output_type": "stream",
     "text": [
      "   - Point data was converted successfully to LAS, see file: /media/simonfi/My Book/SO_spring_2021_processing/daily/2021.04.02T03-00-00.bin.las\n",
      "\n",
      "/media/simonfi/My Book/SO_spring_2021_processing/daily/2021.04.02T03-00-00.bin  removed and las renamed.\n",
      "\n",
      "CONVERTING OPL BINARY DATA, PLEASE WAIT...\n"
     ]
    },
    {
     "name": "stderr",
     "output_type": "stream",
     "text": [
      "   : 100%|██████████| 438911/438911 [00:02<00:00, 218546.21 pts/s]\n"
     ]
    },
    {
     "name": "stdout",
     "output_type": "stream",
     "text": [
      "   - Point data was converted successfully to LAS, see file: /media/simonfi/My Book/SO_spring_2021_processing/daily/2021.04.02T12-00-00.bin.las\n",
      "\n",
      "/media/simonfi/My Book/SO_spring_2021_processing/daily/2021.04.02T12-00-00.bin  removed and las renamed.\n",
      "\n",
      "CONVERTING OPL BINARY DATA, PLEASE WAIT...\n"
     ]
    },
    {
     "name": "stderr",
     "output_type": "stream",
     "text": [
      "   : 100%|██████████| 433421/433421 [00:01<00:00, 233233.00 pts/s]\n"
     ]
    },
    {
     "name": "stdout",
     "output_type": "stream",
     "text": [
      "   - Point data was converted successfully to LAS, see file: /media/simonfi/My Book/SO_spring_2021_processing/daily/2021.04.02T15-00-00.bin.las\n",
      "\n",
      "/media/simonfi/My Book/SO_spring_2021_processing/daily/2021.04.02T15-00-00.bin  removed and las renamed.\n",
      "-- Bin converted to las\n",
      "-- Rotated pcl\n",
      "-- Tif extracted\n",
      "['/media/simonfi/My Book/SO_spring_2021_processing/daily/2021.04.02T00-00-00_rot.tif', '/media/simonfi/My Book/SO_spring_2021_processing/daily/2021.04.02T03-00-00_rot.tif', '/media/simonfi/My Book/SO_spring_2021_processing/daily/2021.04.02T12-00-00_rot.tif', '/media/simonfi/My Book/SO_spring_2021_processing/daily/2021.04.02T15-00-00_rot.tif']\n",
      "File saved:  /media/simonfi/My Book/SO_spring_2021_processing/netcdf/20210402.nc\n",
      "-- daily Netcdf compiled\n"
     ]
    }
   ],
   "source": [
    "# Copy bin file for the day\n",
    "import shutil\n",
    "import process as pp\n",
    "sampling_interval=3600*3\n",
    "\n",
    "\n",
    "for day in meta.daily.unique()[4:6]:\n",
    "    print('......')\n",
    "    print('Processing Day ', day)\n",
    "    daily = meta.loc[meta.daily==day]\n",
    "    for file in daily.fname_archive:\n",
    "        try:\n",
    "            tst_data = pd.to_datetime(file.split('/')[-1][:19],format=\"%Y.%m.%dT%H-%M-%S\")\n",
    "            if (tst_data.second + 60*tst_data.minute + 3600*tst_data.hour) % sampling_interval == 0:\n",
    "                shutil.copy(file, dir_daily)\n",
    "        except IOerror:\n",
    "            print('ERROR: cannot move ', file)\n",
    "    print('-- File moved')\n",
    "    pp.convert_bin_to_las(path_to_data=dir_daily)\n",
    "    print('-- Bin converted to las')\n",
    "    pp.tmp_rotate_point_clouds(z_range='[-20:20]', \n",
    "                               crop_corners='([-20, 10], [-5, 5])', \n",
    "                               path_to_data=dir_daily, \n",
    "                               delete_las=True)\n",
    "    print('-- Rotated pcl')\n",
    "    pp.extract_dem(GSD= 0.02,\n",
    "                origin_x=-16.2,\n",
    "                origin_y=-4,\n",
    "                height=7.8,\n",
    "                width=22.3,\n",
    "                method='pdal',\n",
    "                path_to_data=dir_daily,\n",
    "                delete_las=True,\n",
    "                tif_to_zip=False)\n",
    "    print('-- Tif extracted')\n",
    "    pp.raster_to_ds_daily(dir_daily, dir_netcdf)\n",
    "    print('-- daily Netcdf compiled')\n",
    "    "
   ]
  },
  {
   "cell_type": "code",
   "execution_count": null,
   "metadata": {},
   "outputs": [],
   "source": [
    "meta.shape\n"
   ]
  },
  {
   "cell_type": "code",
   "execution_count": null,
   "metadata": {},
   "outputs": [],
   "source": [
    "# Create on netcdf file per day\n",
    "for day in meta.daily.unique():\n",
    "    # create time variable\n",
    "    time_var = xr.Variable('time', meta.tst.loc[meta.tst.dt.day==date])\n",
    "\n",
    "    # convert by daily batches. Use functions from process_pcl!!!!\n",
    "    pp.convert_bin_to_las()\n",
    "    pp.rotate_point_clouds()\n",
    "    pp.extract_dem()"
   ]
  }
 ],
 "metadata": {
  "kernelspec": {
   "display_name": "livox",
   "language": "python",
   "name": "livox"
  },
  "language_info": {
   "codemirror_mode": {
    "name": "ipython",
    "version": 3
   },
   "file_extension": ".py",
   "mimetype": "text/x-python",
   "name": "python",
   "nbconvert_exporter": "python",
   "pygments_lexer": "ipython3",
   "version": "3.8.11"
  }
 },
 "nbformat": 4,
 "nbformat_minor": 4
}
