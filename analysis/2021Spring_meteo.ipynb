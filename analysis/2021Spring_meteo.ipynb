{
 "cells": [
  {
   "cell_type": "markdown",
   "metadata": {},
   "source": [
    "# Spring 2021 Lidar Data\n",
    "S. Filhol, July 2021\n",
    "\n",
    "\n",
    "-------\n",
    "Part 1:  Find out when to convert bin file into DEMs\n",
    "\n",
    "1. get wind, temperature, flux, precip and snow depth from flux station\n",
    "2. identify events: precip, wind, transport.\n",
    "3. create list of timestamp to convert bin to netcdf. High temporal resolution during events, low temporal resolution in low activity\n",
    "\n",
    "-------\n",
    "Part 2\n",
    "\n",
    "1. write code to load files metadata to sort which file to process and post process\n",
    "2. "
   ]
  },
  {
   "cell_type": "code",
   "execution_count": 1,
   "metadata": {},
   "outputs": [],
   "source": [
    "from wsn_client import query\n",
    "from wsn_client import var_dict\n",
    "\n",
    "import xarray as xr\n",
    "import glob\n",
    "import pandas as pd\n",
    "import datetime"
   ]
  },
  {
   "cell_type": "markdown",
   "metadata": {},
   "source": [
    "## 1. Download data from database"
   ]
  },
  {
   "cell_type": "code",
   "execution_count": 2,
   "metadata": {},
   "outputs": [],
   "source": [
    "\n",
    "start = datetime.datetime(2021,4,7,9)\n",
    "end = datetime.datetime(2021,6,13,6)\n",
    "\n",
    "var_oi_mean = ['FC1DRIFTmean_99_99_1_1_1',\n",
    "          'FC2DRIFTmean_99_99_1_1_1',\n",
    "          'WD_20_35_1_1_1',\n",
    "          'WS_16_33_1_1_1',\n",
    "          'TA_2_1_1_1_1',\n",
    "          'METNOR_99_99_1_1_1',\n",
    "          'METNOS_99_99_1_1_1']\n",
    "var_oi_max = ['FC1DRIFTmax_99_99_1_1_1',\n",
    "          'FC2DRIFTmax_99_99_1_1_1',\n",
    "          'WD_20_35_1_1_1',\n",
    "          'WS_16_33_1_1_1',\n",
    "          'TA_2_1_1_1_1',\n",
    "          'METNOR_99_99_1_1_1',\n",
    "          'METNOS_99_99_1_1_1']\n",
    "\n",
    "df_mean = query.query('clickhouse', serial=3668, table='finseflux_Biomet',limit=10000000,\n",
    "                 fields=var_oi_mean, time__gte=start, time_lte=end,\n",
    "                interval=60*10, interval_agg='mean')\n",
    "df_max = query.query('clickhouse', serial=3668, table='finseflux_Biomet',limit=10000000,\n",
    "                 fields=var_oi_max, time__gte=start, time_lte=end,\n",
    "                interval=60*10, interval_agg='max')"
   ]
  },
  {
   "cell_type": "code",
   "execution_count": 19,
   "metadata": {},
   "outputs": [
    {
     "data": {
      "text/html": [
       "<div>\n",
       "<style scoped>\n",
       "    .dataframe tbody tr th:only-of-type {\n",
       "        vertical-align: middle;\n",
       "    }\n",
       "\n",
       "    .dataframe tbody tr th {\n",
       "        vertical-align: top;\n",
       "    }\n",
       "\n",
       "    .dataframe thead th {\n",
       "        text-align: right;\n",
       "    }\n",
       "</style>\n",
       "<table border=\"1\" class=\"dataframe\">\n",
       "  <thead>\n",
       "    <tr style=\"text-align: right;\">\n",
       "      <th></th>\n",
       "      <th>time</th>\n",
       "      <th>fc1drift_mean</th>\n",
       "      <th>fc2drift_mean</th>\n",
       "      <th>wd</th>\n",
       "      <th>ws</th>\n",
       "      <th>ta</th>\n",
       "      <th>metno_r</th>\n",
       "      <th>metno_s</th>\n",
       "    </tr>\n",
       "    <tr>\n",
       "      <th>time</th>\n",
       "      <th></th>\n",
       "      <th></th>\n",
       "      <th></th>\n",
       "      <th></th>\n",
       "      <th></th>\n",
       "      <th></th>\n",
       "      <th></th>\n",
       "      <th></th>\n",
       "    </tr>\n",
       "  </thead>\n",
       "  <tbody>\n",
       "    <tr>\n",
       "      <th>2021-04-07 07:00:00</th>\n",
       "      <td>1617778800</td>\n",
       "      <td>0.001167</td>\n",
       "      <td>71.298</td>\n",
       "      <td>297.550000</td>\n",
       "      <td>4.852833</td>\n",
       "      <td>-6.130192</td>\n",
       "      <td>518.687208</td>\n",
       "      <td>NaN</td>\n",
       "    </tr>\n",
       "    <tr>\n",
       "      <th>2021-04-07 07:10:00</th>\n",
       "      <td>1617779400</td>\n",
       "      <td>0.001183</td>\n",
       "      <td>71.298</td>\n",
       "      <td>289.983333</td>\n",
       "      <td>5.153667</td>\n",
       "      <td>-6.201749</td>\n",
       "      <td>518.668430</td>\n",
       "      <td>NaN</td>\n",
       "    </tr>\n",
       "    <tr>\n",
       "      <th>2021-04-07 07:20:00</th>\n",
       "      <td>1617780000</td>\n",
       "      <td>0.001067</td>\n",
       "      <td>71.298</td>\n",
       "      <td>291.150000</td>\n",
       "      <td>4.574333</td>\n",
       "      <td>-6.170315</td>\n",
       "      <td>518.679520</td>\n",
       "      <td>NaN</td>\n",
       "    </tr>\n",
       "    <tr>\n",
       "      <th>2021-04-07 07:30:00</th>\n",
       "      <td>1617780600</td>\n",
       "      <td>0.001717</td>\n",
       "      <td>71.298</td>\n",
       "      <td>297.116667</td>\n",
       "      <td>4.299667</td>\n",
       "      <td>-6.072009</td>\n",
       "      <td>518.680298</td>\n",
       "      <td>50.44</td>\n",
       "    </tr>\n",
       "    <tr>\n",
       "      <th>2021-04-07 07:40:00</th>\n",
       "      <td>1617781200</td>\n",
       "      <td>0.006050</td>\n",
       "      <td>71.298</td>\n",
       "      <td>294.983333</td>\n",
       "      <td>4.984000</td>\n",
       "      <td>-6.044804</td>\n",
       "      <td>518.659150</td>\n",
       "      <td>NaN</td>\n",
       "    </tr>\n",
       "  </tbody>\n",
       "</table>\n",
       "</div>"
      ],
      "text/plain": [
       "                           time  fc1drift_mean  fc2drift_mean          wd  \\\n",
       "time                                                                        \n",
       "2021-04-07 07:00:00  1617778800       0.001167         71.298  297.550000   \n",
       "2021-04-07 07:10:00  1617779400       0.001183         71.298  289.983333   \n",
       "2021-04-07 07:20:00  1617780000       0.001067         71.298  291.150000   \n",
       "2021-04-07 07:30:00  1617780600       0.001717         71.298  297.116667   \n",
       "2021-04-07 07:40:00  1617781200       0.006050         71.298  294.983333   \n",
       "\n",
       "                           ws        ta     metno_r  metno_s  \n",
       "time                                                          \n",
       "2021-04-07 07:00:00  4.852833 -6.130192  518.687208      NaN  \n",
       "2021-04-07 07:10:00  5.153667 -6.201749  518.668430      NaN  \n",
       "2021-04-07 07:20:00  4.574333 -6.170315  518.679520      NaN  \n",
       "2021-04-07 07:30:00  4.299667 -6.072009  518.680298    50.44  \n",
       "2021-04-07 07:40:00  4.984000 -6.044804  518.659150      NaN  "
      ]
     },
     "execution_count": 19,
     "metadata": {},
     "output_type": "execute_result"
    }
   ],
   "source": [
    "df_mean.columns = [var_dict.CR6_biomet_perm[x] for x in df_mean.columns]\n",
    "df_max.columns = [var_dict.CR6_biomet_perm[x] for x in df_max.columns]\n",
    "df_mean.head()"
   ]
  },
  {
   "cell_type": "code",
   "execution_count": 32,
   "metadata": {},
   "outputs": [
    {
     "name": "stderr",
     "output_type": "stream",
     "text": [
      "/home/simonfi/miniconda3/envs/dataAna/lib/python3.8/site-packages/pandas/core/indexing.py:1637: SettingWithCopyWarning: \n",
      "A value is trying to be set on a copy of a slice from a DataFrame\n",
      "\n",
      "See the caveats in the documentation: https://pandas.pydata.org/pandas-docs/stable/user_guide/indexing.html#returning-a-view-versus-a-copy\n",
      "  self._setitem_single_block(indexer, value, name)\n"
     ]
    }
   ],
   "source": [
    "# Correct data \n",
    "# 1. remove precipitation bucket signal\n",
    "df_max['precip'] = df_max.metno_r.diff()\n",
    "df_max.precip.loc[df_max.precip<-100] = 0\n",
    "\n",
    "# 1. remove precipitation bucket signal\n",
    "df_mean['precip'] = df_max.metno_r.diff()\n",
    "df_mean.precip.loc[df_max.precip<-100] = 0\n",
    "\n",
    "# 2. remove bad flowcapt 2 data (flowcapt sensor 2 keeps failing)\n"
   ]
  },
  {
   "cell_type": "markdown",
   "metadata": {},
   "source": [
    "## 2. Plot and Identification of events"
   ]
  },
  {
   "cell_type": "code",
   "execution_count": 20,
   "metadata": {},
   "outputs": [],
   "source": [
    "import matplotlib.pyplot as plt"
   ]
  },
  {
   "cell_type": "code",
   "execution_count": 31,
   "metadata": {},
   "outputs": [
    {
     "data": {
      "text/plain": [
       "[None, None, None, None]"
      ]
     },
     "execution_count": 31,
     "metadata": {},
     "output_type": "execute_result"
    },
    {
     "data": {
      "image/png": "[encoded data removed]",
      "text/plain": [
       "<Figure size 640x480 with 4 Axes>"
      ]
     },
     "metadata": {},
     "output_type": "display_data"
    }
   ],
   "source": [
    "fig, ax = plt.subplots(4,1,sharex=True)\n",
    "\n",
    "# wind speed panel\n",
    "df_mean.ws.plot(ax=ax[0], label='Mean')\n",
    "df_max.ws.plot(ax=ax[0], label='Max')\n",
    "\n",
    "\n",
    "# flowcapt panel\n",
    "#(df_mean.fc1drift_mean).plot(ax=ax[1])\n",
    "ax[1].semilogy(df_mean.fc1drift_mean)\n",
    "\n",
    "# Precipitation panel\n",
    "df_max.metno_r.diff().plot(ax=ax[2])\n",
    "\n",
    "# Temperature \n",
    "\n",
    "[x.grid(linestyle=':') for x in ax]"
   ]
  },
  {
   "cell_type": "code",
   "execution_count": 23,
   "metadata": {},
   "outputs": [
    {
     "name": "stdout",
     "output_type": "stream",
     "text": [
      "Using matplotlib backend: Qt5Agg\n"
     ]
    }
   ],
   "source": [
    "%matplotlib"
   ]
  },
  {
   "cell_type": "code",
   "execution_count": null,
   "metadata": {},
   "outputs": [],
   "source": []
  }
 ],
 "metadata": {
  "kernelspec": {
   "display_name": "dataAna",
   "language": "python",
   "name": "dataana"
  },
  "language_info": {
   "codemirror_mode": {
    "name": "ipython",
    "version": 3
   },
   "file_extension": ".py",
   "mimetype": "text/x-python",
   "name": "python",
   "nbconvert_exporter": "python",
   "pygments_lexer": "ipython3",
   "version": "3.8.2"
  }
 },
 "nbformat": 4,
 "nbformat_minor": 4
}
