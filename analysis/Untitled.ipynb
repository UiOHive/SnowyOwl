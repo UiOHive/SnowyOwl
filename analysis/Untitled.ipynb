{
 "cells": [
  {
   "cell_type": "markdown",
   "metadata": {},
   "source": [
    "# Spring 2021 Lidar Data\n",
    "S. Filhol, July 2021\n",
    "\n",
    "\n",
    "-------\n",
    "Part 1:  Find out when to convert bin file into DEMs\n",
    "\n",
    "1. get wind, temperature, flux, precip and snow depth from flux station\n",
    "2. identify events: precip, wind, transport.\n",
    "3. create list of timestamp to convert bin to netcdf. High temporal resolution during events, low temporal resolution in low activity\n",
    "\n",
    "-------\n",
    "Part 2\n",
    "\n",
    "1. write code to load files metadata to sort which file to process and post process\n",
    "2. "
   ]
  },
  {
   "cell_type": "code",
   "execution_count": 2,
   "metadata": {},
   "outputs": [],
   "source": [
    "from wsn_client import query\n",
    "from wsn_client import var_dict\n",
    "\n",
    "import xarray as xr\n",
    "import glob\n",
    "import pandas as pd\n",
    "import datetime"
   ]
  },
  {
   "cell_type": "code",
   "execution_count": null,
   "metadata": {},
   "outputs": [],
   "source": []
  },
  {
   "cell_type": "code",
   "execution_count": 8,
   "metadata": {},
   "outputs": [],
   "source": [
    "\n",
    "start = datetime.datetime(2021,4,7,9)\n",
    "end = datetime.datetime(2021,6,13,6)\n",
    "\n",
    "var_oi_mean = ['FC1DRIFTmean_99_99_1_1_1',\n",
    "          'FC2DRIFTmean_99_99_1_1_1',\n",
    "          'WD_20_35_1_1_1',\n",
    "          'WS_16_33_1_1_1',\n",
    "          'TA_2_1_1_1_1',\n",
    "          'METNOR_99_99_1_1_1',\n",
    "          'METNOS_99_99_1_1_1']\n",
    "var_oi_max = ['FC1DRIFTmax_99_99_1_1_1',\n",
    "          'FC2DRIFTmax_99_99_1_1_1',\n",
    "          'WD_20_35_1_1_1',\n",
    "          'WS_16_33_1_1_1',\n",
    "          'TA_2_1_1_1_1',\n",
    "          'METNOR_99_99_1_1_1',\n",
    "          'METNOS_99_99_1_1_1']\n",
    "\n",
    "df_mean = query.query('clickhouse', serial=3668, table='finseflux_Biomet',limit=10000000,\n",
    "                 fields=var_oi_mean, time__gte=start, time_lte=end,\n",
    "                interval=60*10, interval_agg='mean')\n",
    "df_max = query.query('clickhouse', serial=3668, table='finseflux_Biomet',limit=10000000,\n",
    "                 fields=var_oi_max, time__gte=start, time_lte=end,\n",
    "                interval=60*10, interval_agg='max')"
   ]
  },
  {
   "cell_type": "code",
   "execution_count": 9,
   "metadata": {},
   "outputs": [
    {
     "data": {
      "text/plain": [
       "<bound method NDFrame.head of                            time  FC1DRIFTmax_99_99_1_1_1  \\\n",
       "time                                                       \n",
       "2021-04-07 07:00:00  1617778800                    0.011   \n",
       "2021-04-07 07:10:00  1617779400                    0.003   \n",
       "2021-04-07 07:20:00  1617780000                    0.002   \n",
       "2021-04-07 07:30:00  1617780600                    0.005   \n",
       "2021-04-07 07:40:00  1617781200                    0.022   \n",
       "...                         ...                      ...   \n",
       "2021-07-07 11:50:00  1625658600                    0.002   \n",
       "2021-07-07 12:00:00  1625659200                    0.005   \n",
       "2021-07-07 12:10:00  1625659800                    0.002   \n",
       "2021-07-07 12:20:00  1625660400                    0.001   \n",
       "2021-07-07 12:30:00  1625661000                    0.001   \n",
       "\n",
       "                     FC2DRIFTmax_99_99_1_1_1  WD_20_35_1_1_1  WS_16_33_1_1_1  \\\n",
       "time                                                                           \n",
       "2021-04-07 07:00:00                   84.238           308.0            5.94   \n",
       "2021-04-07 07:10:00                   84.238           298.0            6.06   \n",
       "2021-04-07 07:20:00                   84.238           307.0            5.82   \n",
       "2021-04-07 07:30:00                   84.238           309.0            5.74   \n",
       "2021-04-07 07:40:00                   84.238           304.0            6.31   \n",
       "...                                      ...             ...             ...   \n",
       "2021-07-07 11:50:00                    0.000           164.0            4.36   \n",
       "2021-07-07 12:00:00                    0.000           209.0            4.84   \n",
       "2021-07-07 12:10:00                    0.000           229.0            5.70   \n",
       "2021-07-07 12:20:00                    0.000           218.0            6.56   \n",
       "2021-07-07 12:30:00                    0.000           197.0            3.21   \n",
       "\n",
       "                     TA_2_1_1_1_1  METNOR_99_99_1_1_1  METNOS_99_99_1_1_1  \n",
       "time                                                                       \n",
       "2021-04-07 07:00:00     -6.104782            518.7952                 NaN  \n",
       "2021-04-07 07:10:00     -6.144898            518.7443               50.48  \n",
       "2021-04-07 07:20:00     -6.104782            518.9388                 NaN  \n",
       "2021-04-07 07:30:00     -6.024521            518.7293               50.47  \n",
       "2021-04-07 07:40:00     -5.988159            518.7144               50.50  \n",
       "...                           ...                 ...                 ...  \n",
       "2021-07-07 11:50:00     10.475510            375.0375                 NaN  \n",
       "2021-07-07 12:00:00     10.879040            375.0426                 NaN  \n",
       "2021-07-07 12:10:00     11.565200            375.0636                0.31  \n",
       "2021-07-07 12:20:00     11.080830            375.0174                 NaN  \n",
       "2021-07-07 12:30:00     10.794940            374.9802                 NaN  \n",
       "\n",
       "[13138 rows x 8 columns]>"
      ]
     },
     "execution_count": 9,
     "metadata": {},
     "output_type": "execute_result"
    }
   ],
   "source": [
    "df_max.head"
   ]
  },
  {
   "cell_type": "code",
   "execution_count": 10,
   "metadata": {},
   "outputs": [],
   "source": [
    "from wsn_client import var_dict"
   ]
  },
  {
   "cell_type": "code",
   "execution_count": 11,
   "metadata": {},
   "outputs": [
    {
     "data": {
      "text/plain": [
       "{'BEC_99_99_3_1_1': 'bec',\n",
       " 'CS650PERIOD_99_99_3_1_1': 'cs650period',\n",
       " 'CS650VRATIO_99_99_3_1_1': 'cs650vratio',\n",
       " 'FC1DRIFTmax_99_99_1_1_1': 'fc1drift_max',\n",
       " 'FC1DRIFTmean_99_99_1_1_1': 'fc1drift_mean',\n",
       " 'FC1DRIFTmin_99_99_1_1_1': 'fc1drift_min',\n",
       " 'FC1DRIFTstd_99_99_1_1_1': 'fc1drift_std',\n",
       " 'FC1DRIFTsum_99_99_1_1_1': 'fc1drift_sum',\n",
       " 'FC1WSmax_16_99_1_1_1': 'fc1ws_max',\n",
       " 'FC1WSmean_16_99_1_1_1': 'fc1ws_mean',\n",
       " 'FC1WSmin_16_99_1_1_1': 'fc1ws_min',\n",
       " 'FC2DRIFTmax_99_99_1_1_1': 'fc2drift_max',\n",
       " 'FC2DRIFTmean_99_99_1_1_1': 'fc2drift_mean',\n",
       " 'FC2DRIFTmin_99_99_1_1_1': 'fc2drift_min',\n",
       " 'FC2DRIFTstd_99_99_1_1_1': 'fc2drift_std',\n",
       " 'FC2DRIFTsum_99_99_1_1_1': 'fc2drift_sum',\n",
       " 'FC2WSmax_16_99_1_1_1': 'fc2ws_max',\n",
       " 'FC2WSmean_16_99_1_1_1': 'fc2ws_mean',\n",
       " 'FC2WSmin_16_99_1_1_1': 'fc2ws_min',\n",
       " 'LWIN_6_14_1_1_1': 'lwin',\n",
       " 'LWOUT_6_15_1_1_1': 'lwout',\n",
       " 'METNORA_99_99_1_1_1': 'metno_ra',\n",
       " 'METNORR_99_99_1_1_1': 'metno_rr',\n",
       " 'METNOR_99_99_1_1_1': 'metno_r',\n",
       " 'METNOS_99_99_1_1_1': 'metno_s',\n",
       " 'PA_4_2_1_1_1': 'pa',\n",
       " 'PERMITTIVITY_99_99_3_1_1': 'permittivty',\n",
       " 'RECORD': 'record',\n",
       " 'RH_19_3_1_1_1': 'rh',\n",
       " 'RH_19_3_1_2_1': 'rh',\n",
       " 'SHF_6_37_1_1_1': 'SHF_6_37_1_1_1',\n",
       " 'SHF_6_37_2_1_1': 'SHF_6_37_2_1_1',\n",
       " 'SHF_99_37_1_1_1': 'SHF_99_37_1_1_1',\n",
       " 'SHF_99_37_1_1_2': 'SHF_99_37_1_1_2',\n",
       " 'SHF_99_37_2_1_1': 'SHF_99_37_2_1_1',\n",
       " 'SHF_99_37_2_1_2': 'SHF_99_37_2_1_2',\n",
       " 'SWC_12_36_3_1_1': 'SWC_12_36_3_1_1',\n",
       " 'SWIN_6_10_1_1_1': 'swin',\n",
       " 'SWOUT_6_11_1_1_1': 'swout',\n",
       " 'TA_2_1_1_1_1': 'ta',\n",
       " 'TA_2_1_1_2_1': 'ta',\n",
       " 'TSS_2_99_1_1_1': 'tsurf',\n",
       " 'TS_2_38_1_1_1': 'ts_1',\n",
       " 'TS_2_38_2_1_1': 'ts_2',\n",
       " 'TS_2_38_3_1_1': 'ts_3',\n",
       " 'VIN_18_39_1_1_1': 'vin',\n",
       " 'WD_20_35_1_1_1': 'wd',\n",
       " 'WS_16_33_1_1_1': 'ws',\n",
       " 'model': 'model',\n",
       " 'name': 'name',\n",
       " 'os_version': 'os_version',\n",
       " 'prog_name': 'prog_name',\n",
       " 'prog_signature': 'prog_signature',\n",
       " 'serial': 'serial',\n",
       " 'table_name': 'table_name',\n",
       " 'time': 'time'}"
      ]
     },
     "execution_count": 11,
     "metadata": {},
     "output_type": "execute_result"
    }
   ],
   "source": [
    "var_dict.CR6_biomet_perm"
   ]
  },
  {
   "cell_type": "code",
   "execution_count": null,
   "metadata": {},
   "outputs": [],
   "source": []
  }
 ],
 "metadata": {
  "kernelspec": {
   "display_name": "dataAna",
   "language": "python",
   "name": "dataana"
  },
  "language_info": {
   "codemirror_mode": {
    "name": "ipython",
    "version": 3
   },
   "file_extension": ".py",
   "mimetype": "text/x-python",
   "name": "python",
   "nbconvert_exporter": "python",
   "pygments_lexer": "ipython3",
   "version": "3.8.2"
  }
 },
 "nbformat": 4,
 "nbformat_minor": 4
}
