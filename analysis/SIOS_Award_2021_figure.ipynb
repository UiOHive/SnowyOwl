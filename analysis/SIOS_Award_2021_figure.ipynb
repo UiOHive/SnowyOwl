{
 "cells": [
  {
   "cell_type": "markdown",
   "metadata": {},
   "source": [
    "# Figure for SIOS Innovation Award\n",
    "S. Filhol Sept 2021\n",
    "\n",
    "https://sios-svalbard.org/InnovationAward\n",
    "\n",
    "\n",
    "Google Doc: https://docs.google.com/document/d/10C38Q6lTYFMJYEcgIA9kLsMbuhZ2mjBO-pKFlr8NbkA/edit#"
   ]
  },
  {
   "cell_type": "code",
   "execution_count": 1,
   "metadata": {},
   "outputs": [],
   "source": [
    "import pandas as pd\n",
    "import matplotlib.pyplot as plt\n",
    "import numpy as np\n",
    "\n",
    "import glob\n",
    "import xarray as xr"
   ]
  },
  {
   "cell_type": "code",
   "execution_count": null,
   "metadata": {},
   "outputs": [],
   "source": [
    "# Use netcdf filled. Load only once a day (review pattern filename)\n",
    "ds = xr.open_mfdataset('../data/202104/*nc')\n",
    "ds"
   ]
  },
  {
   "cell_type": "code",
   "execution_count": null,
   "metadata": {},
   "outputs": [],
   "source": [
    "fig, ax = plt.subplots(1,1)\n",
    "(ds['min'].isel(x=slice(0,len(ds.x),5), y=190)-ds['min'].isel(x=slice(0,len(ds.x),5), y=190, time=0)).plot.line(ax=ax, x=\"time\", alpha=.05, c='b', add_legend=False)\n",
    "(ds['min'].isel(y=190).median(dim=['x'])-ds['min'].isel(y=190).median(dim=['x']).isel(time=0)).plot.line(c='k', ax=ax, label='Y=190 line meadian')\n",
    "(ds['min'].median(dim=['x','y'])-ds['min'].median(dim=['x','y']).isel(time=0)).plot.line(c='r', ax=ax, label='Whole area Median')\n",
    "plt.legend()\n",
    "plt.ylim(-0.1,0.6)"
   ]
  },
  {
   "cell_type": "code",
   "execution_count": null,
   "metadata": {},
   "outputs": [],
   "source": [
    "sd=(ds['min'] - ds['min'].isel(time=0))\n",
    "sd"
   ]
  },
  {
   "cell_type": "code",
   "execution_count": null,
   "metadata": {},
   "outputs": [],
   "source": [
    "# Plot SD MAP"
   ]
  },
  {
   "cell_type": "code",
   "execution_count": null,
   "metadata": {},
   "outputs": [],
   "source": []
  },
  {
   "cell_type": "code",
   "execution_count": null,
   "metadata": {},
   "outputs": [],
   "source": []
  },
  {
   "cell_type": "code",
   "execution_count": null,
   "metadata": {},
   "outputs": [],
   "source": []
  },
  {
   "cell_type": "code",
   "execution_count": null,
   "metadata": {},
   "outputs": [],
   "source": []
  }
 ],
 "metadata": {
  "kernelspec": {
   "display_name": "dataAna",
   "language": "python",
   "name": "dataana"
  },
  "language_info": {
   "codemirror_mode": {
    "name": "ipython",
    "version": 3
   },
   "file_extension": ".py",
   "mimetype": "text/x-python",
   "name": "python",
   "nbconvert_exporter": "python",
   "pygments_lexer": "ipython3",
   "version": "3.8.2"
  }
 },
 "nbformat": 4,
 "nbformat_minor": 4
}
